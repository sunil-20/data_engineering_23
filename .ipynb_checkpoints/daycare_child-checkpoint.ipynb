{
 "cells": [
  {
   "cell_type": "code",
   "execution_count": 1,
   "metadata": {
    "colab": {
     "base_uri": "https://localhost:8080/"
    },
    "executionInfo": {
     "elapsed": 6734,
     "status": "ok",
     "timestamp": 1699360830959,
     "user": {
      "displayName": "Sunil Kafle",
      "userId": "15703601385285257600"
     },
     "user_tz": 300
    },
    "id": "Sbpu1OHVw0_4",
    "outputId": "4f7b97dc-13b6-45e6-d295-8e404ccd2974"
   },
   "outputs": [
    {
     "name": "stdout",
     "output_type": "stream",
     "text": [
      "Collecting faker\n",
      "  Downloading Faker-19.13.0-py3-none-any.whl.metadata (15 kB)\n",
      "Requirement already satisfied: python-dateutil>=2.4 in c:\\users\\sunil\\appdata\\local\\programs\\python\\python311\\lib\\site-packages (from faker) (2.8.2)\n",
      "Requirement already satisfied: six>=1.5 in c:\\users\\sunil\\appdata\\local\\programs\\python\\python311\\lib\\site-packages (from python-dateutil>=2.4->faker) (1.16.0)\n",
      "Downloading Faker-19.13.0-py3-none-any.whl (1.7 MB)\n",
      "   ---------------------------------------- 0.0/1.7 MB ? eta -:--:--\n",
      "   ---- ----------------------------------- 0.2/1.7 MB 4.0 MB/s eta 0:00:01\n",
      "   ---------------------- ----------------- 1.0/1.7 MB 10.4 MB/s eta 0:00:01\n",
      "   ---------------------------------------- 1.7/1.7 MB 13.8 MB/s eta 0:00:00\n",
      "Installing collected packages: faker\n",
      "Successfully installed faker-19.13.0\n"
     ]
    }
   ],
   "source": [
    "!pip install faker"
   ]
  },
  {
   "cell_type": "code",
   "execution_count": 2,
   "metadata": {
    "executionInfo": {
     "elapsed": 146,
     "status": "ok",
     "timestamp": 1699362427681,
     "user": {
      "displayName": "Sunil Kafle",
      "userId": "15703601385285257600"
     },
     "user_tz": 300
    },
    "id": "_569J_B3zIK0"
   },
   "outputs": [],
   "source": [
    "# import libraries\n",
    "from random import randint, seed\n",
    "import pandas as pd\n",
    "from faker import Faker\n",
    "\n",
    "#create faker object\n",
    "f = Faker()\n"
   ]
  },
  {
   "cell_type": "code",
   "execution_count": 3,
   "metadata": {
    "id": "X5Jzrnf-zIN_"
   },
   "outputs": [
    {
     "data": {
      "text/html": [
       "<div>\n",
       "<style scoped>\n",
       "    .dataframe tbody tr th:only-of-type {\n",
       "        vertical-align: middle;\n",
       "    }\n",
       "\n",
       "    .dataframe tbody tr th {\n",
       "        vertical-align: top;\n",
       "    }\n",
       "\n",
       "    .dataframe thead th {\n",
       "        text-align: right;\n",
       "    }\n",
       "</style>\n",
       "<table border=\"1\" class=\"dataframe\">\n",
       "  <thead>\n",
       "    <tr style=\"text-align: right;\">\n",
       "      <th></th>\n",
       "      <th>customer_id</th>\n",
       "      <th>parent_name</th>\n",
       "      <th>child_name</th>\n",
       "      <th>child_birthday</th>\n",
       "      <th>family_address</th>\n",
       "      <th>parent_email</th>\n",
       "      <th>parent_job</th>\n",
       "      <th>parent_credit_card</th>\n",
       "      <th>latitude</th>\n",
       "      <th>longitude</th>\n",
       "    </tr>\n",
       "  </thead>\n",
       "  <tbody>\n",
       "    <tr>\n",
       "      <th>0</th>\n",
       "      <td>8.0</td>\n",
       "      <td>David Melton</td>\n",
       "      <td>Allison Henderson</td>\n",
       "      <td>2023-04-07</td>\n",
       "      <td>050 Brittany Drive\\nLake Heather, WA 06560</td>\n",
       "      <td>colemandustin@example.org</td>\n",
       "      <td>Exercise physiologist</td>\n",
       "      <td>VISA 16 digit\\nJose Carey\\n4273258789178155 05...</td>\n",
       "      <td>57.357651</td>\n",
       "      <td>-146.525129</td>\n",
       "    </tr>\n",
       "    <tr>\n",
       "      <th>1</th>\n",
       "      <td>12.0</td>\n",
       "      <td>Brian Miller</td>\n",
       "      <td>Danielle Cole</td>\n",
       "      <td>2020-12-30</td>\n",
       "      <td>335 William Mount Apt. 329\\nKellerhaven, MN 68736</td>\n",
       "      <td>john36@example.net</td>\n",
       "      <td>Engineer, chemical</td>\n",
       "      <td>Mastercard\\nDiana Villa\\n2562996991269460 09/3...</td>\n",
       "      <td>70.2705935</td>\n",
       "      <td>108.651366</td>\n",
       "    </tr>\n",
       "    <tr>\n",
       "      <th>2</th>\n",
       "      <td>11.0</td>\n",
       "      <td>Danny Ramirez</td>\n",
       "      <td>Glenn Smith</td>\n",
       "      <td>2023-06-05</td>\n",
       "      <td>5720 Anderson Way\\nPerezshire, AS 87407</td>\n",
       "      <td>michealwalls@example.org</td>\n",
       "      <td>Textile designer</td>\n",
       "      <td>Discover\\nEmily Wiggins\\n6011380727788184 12/2...</td>\n",
       "      <td>7.876259</td>\n",
       "      <td>-19.164555</td>\n",
       "    </tr>\n",
       "    <tr>\n",
       "      <th>3</th>\n",
       "      <td>47.0</td>\n",
       "      <td>Gregory Martinez</td>\n",
       "      <td>Clayton Hernandez</td>\n",
       "      <td>2021-10-15</td>\n",
       "      <td>924 Christopher Common\\nSouth Jeffreyfurt, MT ...</td>\n",
       "      <td>alisontucker@example.net</td>\n",
       "      <td>Musician</td>\n",
       "      <td>Diners Club / Carte Blanche\\nLaura Hill\\n36759...</td>\n",
       "      <td>74.0559455</td>\n",
       "      <td>45.548558</td>\n",
       "    </tr>\n",
       "    <tr>\n",
       "      <th>4</th>\n",
       "      <td>22.0</td>\n",
       "      <td>Christopher Evans</td>\n",
       "      <td>Carlos Mccoy</td>\n",
       "      <td>2019-09-26</td>\n",
       "      <td>7265 Salazar Prairie\\nClayton, OK 70209</td>\n",
       "      <td>mollypowers@example.com</td>\n",
       "      <td>Nature conservation officer</td>\n",
       "      <td>JCB 16 digit\\nGlenn Cohen\\n3571558284368776 07...</td>\n",
       "      <td>-17.8739025</td>\n",
       "      <td>-61.769866</td>\n",
       "    </tr>\n",
       "    <tr>\n",
       "      <th>...</th>\n",
       "      <td>...</td>\n",
       "      <td>...</td>\n",
       "      <td>...</td>\n",
       "      <td>...</td>\n",
       "      <td>...</td>\n",
       "      <td>...</td>\n",
       "      <td>...</td>\n",
       "      <td>...</td>\n",
       "      <td>...</td>\n",
       "      <td>...</td>\n",
       "    </tr>\n",
       "    <tr>\n",
       "      <th>995</th>\n",
       "      <td>79.0</td>\n",
       "      <td>Robert Mayo</td>\n",
       "      <td>Miguel Washington DVM</td>\n",
       "      <td>2023-06-10</td>\n",
       "      <td>37898 Thompson Field\\nJasonville, IN 01725</td>\n",
       "      <td>michelle39@example.net</td>\n",
       "      <td>Early years teacher</td>\n",
       "      <td>Mastercard\\nJames Brown\\n2278639543976001 11/2...</td>\n",
       "      <td>-11.266427</td>\n",
       "      <td>108.545468</td>\n",
       "    </tr>\n",
       "    <tr>\n",
       "      <th>996</th>\n",
       "      <td>25.0</td>\n",
       "      <td>Vanessa Smith</td>\n",
       "      <td>Jeffrey Mayo</td>\n",
       "      <td>2020-01-20</td>\n",
       "      <td>9507 Raymond Groves\\nPort Sarahtown, GU 69119</td>\n",
       "      <td>sandovalrobert@example.org</td>\n",
       "      <td>Neurosurgeon</td>\n",
       "      <td>American Express\\nLaura Brown\\n340744993596909...</td>\n",
       "      <td>-66.150115</td>\n",
       "      <td>45.598786</td>\n",
       "    </tr>\n",
       "    <tr>\n",
       "      <th>997</th>\n",
       "      <td>75.0</td>\n",
       "      <td>Kevin Wilson</td>\n",
       "      <td>Cody Benson</td>\n",
       "      <td>2018-01-20</td>\n",
       "      <td>4752 Walker Isle Apt. 987\\nPort James, WA 52555</td>\n",
       "      <td>yhampton@example.com</td>\n",
       "      <td>Paramedic</td>\n",
       "      <td>Mastercard\\nPamela Snyder\\n2576853012017697 11...</td>\n",
       "      <td>-29.286668</td>\n",
       "      <td>90.035948</td>\n",
       "    </tr>\n",
       "    <tr>\n",
       "      <th>998</th>\n",
       "      <td>61.0</td>\n",
       "      <td>Stephen Johnson</td>\n",
       "      <td>Keith Oliver</td>\n",
       "      <td>2019-05-21</td>\n",
       "      <td>76682 Erika Plains Suite 542\\nWilliamburgh, NC...</td>\n",
       "      <td>rachel93@example.org</td>\n",
       "      <td>Surveyor, commercial/residential</td>\n",
       "      <td>American Express\\nMallory Richardson\\n37927579...</td>\n",
       "      <td>-58.732468</td>\n",
       "      <td>-0.288640</td>\n",
       "    </tr>\n",
       "    <tr>\n",
       "      <th>999</th>\n",
       "      <td>57.0</td>\n",
       "      <td>Carolyn Jones</td>\n",
       "      <td>Mrs. Nancy Howell</td>\n",
       "      <td>2021-09-30</td>\n",
       "      <td>25062 Gardner Mall\\nGaryland, AZ 42092</td>\n",
       "      <td>nicolebrown@example.com</td>\n",
       "      <td>Tax adviser</td>\n",
       "      <td>American Express\\nMatthew Gomez\\n3748163218627...</td>\n",
       "      <td>-78.2716885</td>\n",
       "      <td>42.709955</td>\n",
       "    </tr>\n",
       "  </tbody>\n",
       "</table>\n",
       "<p>1000 rows × 10 columns</p>\n",
       "</div>"
      ],
      "text/plain": [
       "     customer_id        parent_name             child_name child_birthday   \n",
       "0            8.0       David Melton      Allison Henderson     2023-04-07  \\\n",
       "1           12.0       Brian Miller          Danielle Cole     2020-12-30   \n",
       "2           11.0      Danny Ramirez            Glenn Smith     2023-06-05   \n",
       "3           47.0   Gregory Martinez      Clayton Hernandez     2021-10-15   \n",
       "4           22.0  Christopher Evans           Carlos Mccoy     2019-09-26   \n",
       "..           ...                ...                    ...            ...   \n",
       "995         79.0        Robert Mayo  Miguel Washington DVM     2023-06-10   \n",
       "996         25.0      Vanessa Smith           Jeffrey Mayo     2020-01-20   \n",
       "997         75.0       Kevin Wilson            Cody Benson     2018-01-20   \n",
       "998         61.0    Stephen Johnson           Keith Oliver     2019-05-21   \n",
       "999         57.0      Carolyn Jones      Mrs. Nancy Howell     2021-09-30   \n",
       "\n",
       "                                        family_address   \n",
       "0           050 Brittany Drive\\nLake Heather, WA 06560  \\\n",
       "1    335 William Mount Apt. 329\\nKellerhaven, MN 68736   \n",
       "2              5720 Anderson Way\\nPerezshire, AS 87407   \n",
       "3    924 Christopher Common\\nSouth Jeffreyfurt, MT ...   \n",
       "4              7265 Salazar Prairie\\nClayton, OK 70209   \n",
       "..                                                 ...   \n",
       "995         37898 Thompson Field\\nJasonville, IN 01725   \n",
       "996      9507 Raymond Groves\\nPort Sarahtown, GU 69119   \n",
       "997    4752 Walker Isle Apt. 987\\nPort James, WA 52555   \n",
       "998  76682 Erika Plains Suite 542\\nWilliamburgh, NC...   \n",
       "999             25062 Gardner Mall\\nGaryland, AZ 42092   \n",
       "\n",
       "                   parent_email                        parent_job   \n",
       "0     colemandustin@example.org             Exercise physiologist  \\\n",
       "1            john36@example.net                Engineer, chemical   \n",
       "2      michealwalls@example.org                  Textile designer   \n",
       "3      alisontucker@example.net                          Musician   \n",
       "4       mollypowers@example.com       Nature conservation officer   \n",
       "..                          ...                               ...   \n",
       "995      michelle39@example.net               Early years teacher   \n",
       "996  sandovalrobert@example.org                      Neurosurgeon   \n",
       "997        yhampton@example.com                         Paramedic   \n",
       "998        rachel93@example.org  Surveyor, commercial/residential   \n",
       "999     nicolebrown@example.com                       Tax adviser   \n",
       "\n",
       "                                    parent_credit_card     latitude   \n",
       "0    VISA 16 digit\\nJose Carey\\n4273258789178155 05...    57.357651  \\\n",
       "1    Mastercard\\nDiana Villa\\n2562996991269460 09/3...   70.2705935   \n",
       "2    Discover\\nEmily Wiggins\\n6011380727788184 12/2...     7.876259   \n",
       "3    Diners Club / Carte Blanche\\nLaura Hill\\n36759...   74.0559455   \n",
       "4    JCB 16 digit\\nGlenn Cohen\\n3571558284368776 07...  -17.8739025   \n",
       "..                                                 ...          ...   \n",
       "995  Mastercard\\nJames Brown\\n2278639543976001 11/2...   -11.266427   \n",
       "996  American Express\\nLaura Brown\\n340744993596909...   -66.150115   \n",
       "997  Mastercard\\nPamela Snyder\\n2576853012017697 11...   -29.286668   \n",
       "998  American Express\\nMallory Richardson\\n37927579...   -58.732468   \n",
       "999  American Express\\nMatthew Gomez\\n3748163218627...  -78.2716885   \n",
       "\n",
       "       longitude  \n",
       "0    -146.525129  \n",
       "1     108.651366  \n",
       "2     -19.164555  \n",
       "3      45.548558  \n",
       "4     -61.769866  \n",
       "..           ...  \n",
       "995   108.545468  \n",
       "996    45.598786  \n",
       "997    90.035948  \n",
       "998    -0.288640  \n",
       "999    42.709955  \n",
       "\n",
       "[1000 rows x 10 columns]"
      ]
     },
     "execution_count": 3,
     "metadata": {},
     "output_type": "execute_result"
    }
   ],
   "source": [
    "# set seed for reproducible data generation\n",
    "seed(2)\n",
    "# define a function\n",
    "def input_data(x):\n",
    "  # create a pd dataframe(table)\n",
    "  data = pd.DataFrame()\n",
    "  for i in range(0,x):\n",
    "    data.loc[i, \"customer_id\"]= randint(1, 100)\n",
    "    data.loc[i,\"parent_name\"] = f.name()\n",
    "    data.loc[i, \"child_name\"] = f.name()\n",
    "    data.loc[i, \"child_birthday\"]= f.date_of_birth(minimum_age=0, maximum_age=5)\n",
    "    data.loc[i, \"family_address\"] = f.address()\n",
    "    data.loc[i, \"parent_email\"] = f.email()\n",
    "    data.loc[i, \"parent_job\"] = f.job()\n",
    "    data.loc[i, \"parent_credit_card\"] = f.credit_card_full()\n",
    "    data.loc[i, \"latitude\"] = str(f.latitude())\n",
    "    data.loc[i, \"longitude\"] = str(f.longitude())\n",
    "  return data\n",
    "input_data(1000)\n",
    "\n",
    "\n"
   ]
  },
  {
   "cell_type": "code",
   "execution_count": null,
   "metadata": {
    "id": "vO_iBitLzIQx"
   },
   "outputs": [],
   "source": []
  },
  {
   "cell_type": "code",
   "execution_count": null,
   "metadata": {
    "id": "KtHWZNo2zITT"
   },
   "outputs": [],
   "source": []
  },
  {
   "cell_type": "code",
   "execution_count": null,
   "metadata": {
    "id": "Yi2oXTxqzIV_"
   },
   "outputs": [],
   "source": []
  },
  {
   "cell_type": "code",
   "execution_count": null,
   "metadata": {
    "id": "I8iMlwhNzIbq"
   },
   "outputs": [],
   "source": []
  },
  {
   "cell_type": "code",
   "execution_count": null,
   "metadata": {
    "id": "Wo8hp2aDzIlA"
   },
   "outputs": [],
   "source": []
  },
  {
   "cell_type": "code",
   "execution_count": null,
   "metadata": {
    "id": "Fae082OMzIq5"
   },
   "outputs": [],
   "source": []
  },
  {
   "cell_type": "code",
   "execution_count": null,
   "metadata": {
    "id": "ZRp0SL8UzIuI"
   },
   "outputs": [],
   "source": []
  },
  {
   "cell_type": "code",
   "execution_count": null,
   "metadata": {
    "id": "vFuZ1t5OzIxR"
   },
   "outputs": [],
   "source": []
  },
  {
   "cell_type": "code",
   "execution_count": null,
   "metadata": {
    "id": "4h20nv5mzI0Z"
   },
   "outputs": [],
   "source": []
  },
  {
   "cell_type": "code",
   "execution_count": null,
   "metadata": {
    "id": "EY8PTnA6zI3t"
   },
   "outputs": [],
   "source": []
  }
 ],
 "metadata": {
  "colab": {
   "authorship_tag": "ABX9TyMLapxKXOh/lbWUM+rBedeM",
   "provenance": []
  },
  "kernelspec": {
   "display_name": "Python 3 (ipykernel)",
   "language": "python",
   "name": "python3"
  },
  "language_info": {
   "codemirror_mode": {
    "name": "ipython",
    "version": 3
   },
   "file_extension": ".py",
   "mimetype": "text/x-python",
   "name": "python",
   "nbconvert_exporter": "python",
   "pygments_lexer": "ipython3",
   "version": "3.11.2"
  }
 },
 "nbformat": 4,
 "nbformat_minor": 4
}
