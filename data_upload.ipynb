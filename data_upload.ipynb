{
 "cells": [
  {
   "cell_type": "code",
   "execution_count": null,
   "metadata": {},
   "outputs": [],
   "source": [
    "# install necessary modules\n",
    "%pip install psycopg2-binary\n",
    "%pip install sqlalchemy"
   ]
  },
  {
   "cell_type": "code",
   "execution_count": 25,
   "metadata": {},
   "outputs": [],
   "source": [
    "import psycopg2\n",
    "from psycopg2 import sql\n",
    "import pandas as pd\n",
    "from sqlalchemy import create_engine, types, text"
   ]
  },
  {
   "cell_type": "code",
   "execution_count": 33,
   "metadata": {},
   "outputs": [],
   "source": [
    "#create connection string and engine\n",
    "database_url = \"suleiman.db.elephantsql.com\"\n",
    "user = \"bgkfcsde\"\n",
    "password = \"UUpkPmwLi6e08Mb1M_Oi6LELad0fnZA2\"\n",
    "database_name = \"bgkfcsde\"\n",
    "port = 5432\n",
    "\n",
    "#up.uses_netlog.append(\"postgres\")\n",
    "connection_string = f\"postgresql://{user}:{password}@{database_url}:{port}/{database_name}\"\n",
    "\n",
    "engine = create_engine(connection_string)\n",
    "conn = engine.connect()\n",
    "#engine.dispose()"
   ]
  },
  {
   "cell_type": "code",
   "execution_count": null,
   "metadata": {},
   "outputs": [],
   "source": [
    "# read local csv file for daycare_fees\n",
    "df = pd.read_csv(\"Data_100/daycare_fees.csv\")\n",
    "\n",
    "#specify the data type\n",
    "data_type = {\n",
    "    \"customer_id\": types.Integer,\n",
    "    \"hourly_rate\": types.Float,\n",
    "    \"daily\": types.Float,\n",
    "    \"weekly\":types.Float,\n",
    "    \"monthly\": types.Float,\n",
    "    \"total_year\": types.Float\n",
    "}\n",
    "\n",
    "df.to_sql(name= \"daycare_fees\", con=engine, index= False, if_exists = \"replace\", dtype= data_type)\n"
   ]
  },
  {
   "cell_type": "code",
   "execution_count": null,
   "metadata": {},
   "outputs": [],
   "source": [
    "# test remote dbs\n",
    "try:\n",
    "    # Perform the SELECT query\n",
    "    query = text(\"SELECT * FROM daycare_fees;\")\n",
    "    df = pd.read_sql(query, con=engine)\n",
    "    print(df)\n",
    "\n",
    "finally:\n",
    "    # Close the connection\n",
    "    conn.close()\n",
    "\n",
    "    # Close the engine\n",
    "    engine.dispose()"
   ]
  },
  {
   "cell_type": "code",
   "execution_count": 35,
   "metadata": {},
   "outputs": [
    {
     "data": {
      "text/plain": [
       "100"
      ]
     },
     "execution_count": 35,
     "metadata": {},
     "output_type": "execute_result"
    }
   ],
   "source": [
    "# read local csv file for customer_payment\n",
    "df = pd.read_csv(\"Data_100/customer_payment.csv\")\n",
    "\n",
    "#specify the data type\n",
    "data_type = {\n",
    "    \"customer_id\": types.Integer,\n",
    "    \"total_hours_day\": types.Integer,\n",
    "    \"total_hours_week\": types.Integer,\n",
    "    \"total_hours_month\":types.Integer,\n",
    "    \"monthly_payment\": types.Float,\n",
    "    \"total_payment_year\": types.Float\n",
    "}\n",
    "\n",
    "df.to_sql(name= \"customer_payment\", con=engine, index= False, if_exists = \"replace\", dtype= data_type)\n"
   ]
  },
  {
   "cell_type": "code",
   "execution_count": 36,
   "metadata": {},
   "outputs": [
    {
     "name": "stdout",
     "output_type": "stream",
     "text": [
      "    customer_id  total_hours_day  total_hours_week  total_hours_month   \n",
      "0           789                4                20                 80  \\\n",
      "1           981                4                20                 80   \n",
      "2           165                4                20                 80   \n",
      "3           338                8                40                160   \n",
      "4            81                4                20                 80   \n",
      "..          ...              ...               ...                ...   \n",
      "95          231                4                20                 80   \n",
      "96          111                4                20                 80   \n",
      "97          382                4                20                 80   \n",
      "98          877                4                20                 80   \n",
      "99          585                8                40                160   \n",
      "\n",
      "    monthly_payment  total_payment_year  \n",
      "0             800.0              9600.0  \n",
      "1             800.0              9600.0  \n",
      "2             800.0              9600.0  \n",
      "3            1600.0             19200.0  \n",
      "4             800.0              9600.0  \n",
      "..              ...                 ...  \n",
      "95            800.0              9600.0  \n",
      "96            800.0              9600.0  \n",
      "97            800.0              9600.0  \n",
      "98            800.0              9600.0  \n",
      "99           1600.0             19200.0  \n",
      "\n",
      "[100 rows x 6 columns]\n"
     ]
    }
   ],
   "source": [
    "# test remote dbs\n",
    "try:\n",
    "    # Perform the SELECT query\n",
    "    query = text(\"SELECT * FROM customer_payment;\")\n",
    "    df = pd.read_sql(query, con=engine)\n",
    "    print(df)\n",
    "\n",
    "finally:\n",
    "    # Close the connection\n",
    "    conn.close()\n",
    "\n",
    "    # Close the engine\n",
    "    engine.dispose()"
   ]
  },
  {
   "cell_type": "code",
   "execution_count": null,
   "metadata": {},
   "outputs": [],
   "source": []
  }
 ],
 "metadata": {
  "kernelspec": {
   "display_name": "Python 3",
   "language": "python",
   "name": "python3"
  },
  "language_info": {
   "codemirror_mode": {
    "name": "ipython",
    "version": 3
   },
   "file_extension": ".py",
   "mimetype": "text/x-python",
   "name": "python",
   "nbconvert_exporter": "python",
   "pygments_lexer": "ipython3",
   "version": "3.11.2"
  }
 },
 "nbformat": 4,
 "nbformat_minor": 2
}
