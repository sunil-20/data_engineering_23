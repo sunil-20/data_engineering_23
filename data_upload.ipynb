{
 "cells": [
  {
   "cell_type": "code",
   "execution_count": null,
   "metadata": {},
   "outputs": [],
   "source": [
    "# install necessary modules\n",
    "%pip install psycopg2-binary\n",
    "%pip install sqlalchemy"
   ]
  },
  {
   "cell_type": "code",
   "execution_count": 2,
   "metadata": {},
   "outputs": [],
   "source": [
    "import psycopg2\n",
    "from psycopg2 import sql\n",
    "import pandas as pd\n",
    "from sqlalchemy import create_engine, types, text\n",
    "import os"
   ]
  },
  {
   "cell_type": "code",
   "execution_count": 4,
   "metadata": {},
   "outputs": [],
   "source": [
    "#create connection string and engine\n",
    "\n",
    "database_url = os.environ.get(\"DB_URL\")\n",
    "user = os.environ.get(\"DB_USER\")\n",
    "password = os.environ.get(\"DB_PASS\")\n",
    "database_name = os.environ.get(\"DB_NAME\")\n",
    "port = 5432\n",
    "\n",
    "#up.uses_netlog.append(\"postgres\")\n",
    "connection_string = f\"postgresql://{user}:{password}@{database_url}:{port}/{database_name}\"\n",
    "\n",
    "engine = create_engine(connection_string)\n",
    "conn = engine.connect()\n",
    "#engine.dispose()"
   ]
  },
  {
   "cell_type": "markdown",
   "metadata": {},
   "source": [
    "### Upload daycare_fees"
   ]
  },
  {
   "cell_type": "code",
   "execution_count": null,
   "metadata": {},
   "outputs": [],
   "source": [
    "# read local csv file for daycare_fees\n",
    "df = pd.read_csv(\"Data_100/daycare_fees.csv\")\n",
    "\n",
    "#specify the data type\n",
    "data_type = {\n",
    "    \"customer_id\": types.Integer,\n",
    "    \"hourly_rate\": types.Float,\n",
    "    \"daily\": types.Float,\n",
    "    \"weekly\":types.Float,\n",
    "    \"monthly\": types.Float,\n",
    "    \"total_year\": types.Float\n",
    "}\n",
    "\n",
    "df.to_sql(name= \"daycare_fees\", con=engine, index= False, if_exists = \"replace\", dtype= data_type)\n"
   ]
  },
  {
   "cell_type": "code",
   "execution_count": null,
   "metadata": {},
   "outputs": [],
   "source": [
    "# test remote dbs\n",
    "try:\n",
    "    # Perform the SELECT query\n",
    "    query = text(\"SELECT * FROM daycare_fees;\")\n",
    "    df = pd.read_sql(query, con=engine)\n",
    "    print(df)\n",
    "\n",
    "finally:\n",
    "    # Close the connection\n",
    "    conn.close()\n",
    "\n",
    "    # Close the engine\n",
    "    engine.dispose()"
   ]
  },
  {
   "cell_type": "markdown",
   "metadata": {},
   "source": [
    "### Upload customer_payment"
   ]
  },
  {
   "cell_type": "code",
   "execution_count": 35,
   "metadata": {},
   "outputs": [
    {
     "data": {
      "text/plain": [
       "100"
      ]
     },
     "execution_count": 35,
     "metadata": {},
     "output_type": "execute_result"
    }
   ],
   "source": [
    "# read local csv file for customer_payment\n",
    "df = pd.read_csv(\"Data_100/customer_payment.csv\")\n",
    "\n",
    "#specify the data type\n",
    "data_type = {\n",
    "    \"customer_id\": types.Integer,\n",
    "    \"total_hours_day\": types.Integer,\n",
    "    \"total_hours_week\": types.Integer,\n",
    "    \"total_hours_month\":types.Integer,\n",
    "    \"monthly_payment\": types.Float,\n",
    "    \"total_payment_year\": types.Float\n",
    "}\n",
    "\n",
    "df.to_sql(name= \"customer_payment\", con=engine, index= False, if_exists = \"replace\", dtype= data_type)\n"
   ]
  },
  {
   "cell_type": "code",
   "execution_count": null,
   "metadata": {},
   "outputs": [],
   "source": [
    "# test remote dbs\n",
    "try:\n",
    "    # Perform the SELECT query\n",
    "    query = text(\"SELECT * FROM customer_payment;\")\n",
    "    df = pd.read_sql(query, con=engine)\n",
    "    print(df)\n",
    "\n",
    "finally:\n",
    "    # Close the connection\n",
    "    conn.close()\n",
    "\n",
    "    # Close the engine\n",
    "    engine.dispose()"
   ]
  },
  {
   "cell_type": "markdown",
   "metadata": {},
   "source": [
    "### Upload daycare_child"
   ]
  },
  {
   "cell_type": "code",
   "execution_count": 7,
   "metadata": {},
   "outputs": [
    {
     "data": {
      "text/plain": [
       "100"
      ]
     },
     "execution_count": 7,
     "metadata": {},
     "output_type": "execute_result"
    }
   ],
   "source": [
    "# read local csv file for daycare_child\n",
    "df = pd.read_csv(\"Data_100/daycare_child.csv\")\n",
    "\n",
    "#specify the data type\n",
    "data_type = {\n",
    "    \"customer_id\": types.Integer,\n",
    "    \"child_name\": types.String,\n",
    "    \"child_birthday\": types.Date,\n",
    "    \"child_age\": types.Integer,\n",
    "    \"food_preference\": types.String,\n",
    "    \"food_allergies\": types.String,\n",
    "    \"allergy_type\": types.String,\n",
    "    \"neurotype\": types.String,\n",
    "    \"scale_spectrum\": types.String\n",
    "}\n",
    "\n",
    "df.to_sql(name= \"daycare_child\", con=engine, index= False, if_exists = \"replace\", dtype= data_type)\n"
   ]
  }
 ],
 "metadata": {
  "kernelspec": {
   "display_name": "Python 3",
   "language": "python",
   "name": "python3"
  },
  "language_info": {
   "codemirror_mode": {
    "name": "ipython",
    "version": 3
   },
   "file_extension": ".py",
   "mimetype": "text/x-python",
   "name": "python",
   "nbconvert_exporter": "python",
   "pygments_lexer": "ipython3",
   "version": "3.11.2"
  }
 },
 "nbformat": 4,
 "nbformat_minor": 2
}
