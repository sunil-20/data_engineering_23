{
 "cells": [
  {
   "cell_type": "code",
   "execution_count": 4,
   "metadata": {},
   "outputs": [],
   "source": [
    "# import libraries\n",
    "from random import randint, seed\n",
    "import pandas as pd\n",
    "from faker import Faker\n",
    "import datetime\n",
    "\n",
    "#create faker object\n",
    "f = Faker()"
   ]
  },
  {
   "cell_type": "code",
   "execution_count": 5,
   "metadata": {},
   "outputs": [],
   "source": [
    "# set seed\n",
    "seed(2)\n",
    "\n",
    "# creating unique IDs\n",
    "def unique_ids(n):\n",
    "  uid = [f.unique.random_number(digits=3) for _ in range(n)]\n",
    "  return uid\n",
    "\n",
    "def input_data(x):\n",
    "\n",
    "  #call the uid fx\n",
    "  customer_id = unique_ids(x)\n",
    "\n",
    "  # create a pd dataframe(table)\n",
    "  data = pd.DataFrame()\n",
    "  for i in range(0,x):\n",
    "    data.loc[i, \"customer_id\"] = customer_id[i]\n",
    "    data.loc[i, \"parent_name\"] = f.name()\n",
    "    data.loc[i, \"child_name\"] = f.name()\n",
    "    data.loc[i, \"child_birthday\"] = f.date_of_birth(minimum_age=0, maximum_age=5)\n",
    "    data.loc[i, \"family_address\"] = f.address()\n",
    "    data.loc[i, \"parent_email\"] = f.email()\n",
    "    data.loc[i, \"parent_job\"] = f.job()\n",
    "    data.loc[i, \"parent_credit_card\"] = f.credit_card_full()\n",
    "    data.loc[i, \"latitude\"] = str(f.latitude())\n",
    "    data.loc[i, \"longitude\"] = str(f.longitude())\n",
    "\n",
    "  data[\"child_birthday\"] = pd.to_datetime(data[\"child_birthday\"])\n",
    "  data.insert(data.columns.get_loc(\"child_birthday\")+1, \"child_age\", \"\")\n",
    "  # perform age calculation\n",
    "  current_date = datetime.datetime.now()\n",
    "  data[\"child_age\"] = (current_date - data[\"child_birthday\"]).dt.days // 365\n",
    "\n",
    "  return data\n",
    "result = input_data(100)\n",
    "result.to_csv(\"daycare_customer_info.csv\", index = False)\n",
    "\n",
    "\n",
    "\n",
    "\n"
   ]
  }
 ],
 "metadata": {
  "kernelspec": {
   "display_name": "Python 3",
   "language": "python",
   "name": "python3"
  },
  "language_info": {
   "codemirror_mode": {
    "name": "ipython",
    "version": 3
   },
   "file_extension": ".py",
   "mimetype": "text/x-python",
   "name": "python",
   "nbconvert_exporter": "python",
   "pygments_lexer": "ipython3",
   "version": "3.11.2"
  }
 },
 "nbformat": 4,
 "nbformat_minor": 2
}
