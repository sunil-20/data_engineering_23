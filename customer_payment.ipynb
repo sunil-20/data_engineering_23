{
 "cells": [
  {
   "cell_type": "code",
   "execution_count": null,
   "metadata": {},
   "outputs": [],
   "source": [
    "# customer payment \n",
    "# import libraries\n",
    "import pandas as pd\n",
    "from faker import Faker\n",
    "import random\n"
   ]
  },
  {
   "cell_type": "code",
   "execution_count": null,
   "metadata": {},
   "outputs": [],
   "source": [
    "# create faker object\n",
    "f = Faker()\n",
    "\n",
    "# set seed\n",
    "random.seed(2)\n"
   ]
  }
 ],
 "metadata": {
  "language_info": {
   "name": "python"
  }
 },
 "nbformat": 4,
 "nbformat_minor": 2
}
