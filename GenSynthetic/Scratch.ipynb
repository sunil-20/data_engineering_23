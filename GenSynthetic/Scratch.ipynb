{
 "cells": [
  {
   "cell_type": "code",
   "execution_count": null,
   "metadata": {},
   "outputs": [],
   "source": [
    "#import modules\n",
    "from daycare_tables.kid import Kid\n",
    "from daycare_tables.caregiver import Caregiver\n",
    "from daycare_tables.consent import Consent\n",
    "from daycare_tables.contract import Contract\n",
    "from daycare_tables.course import Course\n",
    "from daycare_tables.group_schedule import Group_schedule\n",
    "from daycare_tables.group import Group\n",
    "from daycare_tables.kid_schedule import Kid_schedule\n",
    "from daycare_tables.medical_details import Medical_details\n",
    "from daycare_tables.orders_details import Orders_details\n",
    "from daycare_tables.orders import Orders\n",
    "from daycare_tables.parent import Parent\n",
    "from daycare_tables.products import Products\n",
    "from daycare_tables.staff import Staff\n",
    "from daycare_tables.stocks import Stocks\n",
    "from daycare_tables.suppliers import Suppliers\n",
    "from daycare_tables.transactions import Transactions"
   ]
  }
 ],
 "metadata": {
  "language_info": {
   "name": "python"
  }
 },
 "nbformat": 4,
 "nbformat_minor": 2
}
