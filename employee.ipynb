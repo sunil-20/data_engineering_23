{
 "cells": [
  {
   "cell_type": "code",
   "execution_count": 9,
   "metadata": {},
   "outputs": [],
   "source": [
    "# create an employee dataset\n",
    "\n",
    "# import libraries\n",
    "from random import randint, seed\n",
    "import pandas as pd\n",
    "from faker import Faker\n",
    "\n"
   ]
  },
  {
   "cell_type": "code",
   "execution_count": 11,
   "metadata": {},
   "outputs": [],
   "source": [
    "# create faker object\n",
    "f = Faker()\n",
    "\n",
    "# set seed\n",
    "seed(2)\n",
    "\n",
    "# mapping salary for specific position\n",
    "salary_mapping = {\n",
    "    \"Manager\": 40000,\n",
    "    \"Manager Assistant\": 21000,\n",
    "    \"Teacher\": 30000,\n",
    "    \"Teacher Assistant\": 27000,\n",
    "    \"Cheff\": 23000,\n",
    "    \"Maintenance\": 20000,\n",
    "    \"Nurse\": 32000,\n",
    "}\n",
    "\n",
    "\n",
    "def input_employee(x):\n",
    "    data = pd.DataFrame()\n",
    "    for i in range(0, x):\n",
    "        job_title = f.random_element([\"Manager\", \"Manager Assistant\", \"Teacher\", \"Teacher Assistant\", \"Cheff\", \"Maintenance\", \"Nurse\"])\n",
    "        salary = salary_mapping[job_title]\n",
    "        data.loc[i,\"employee_id\"] = randint(1, 100)\n",
    "        data.loc[i, \"employee_name\"] = f.name()\n",
    "        data.loc[i, \"birthdate\"] = f.date_of_birth(minimum_age = 18, maximum_age = 70)\n",
    "        data.loc[i, \"address\"] = f.address()\n",
    "        data.loc[i, \"email\"] = f.email()\n",
    "        data.loc[i, \"job_title\"] = job_title\n",
    "        data.loc[i, \"salary_year\"] = salary\n",
    "        data.loc[i, \"latitude\"] = str(f.latitude())\n",
    "        data.loc[i, \"longitude\"] = str(f.longitude())\n",
    "    return data\n",
    "#input_employee(20)\n",
    "\n",
    "input_employee(20).to_csv(\"daycare_employee_info1.csv\")\n",
    "\n"
   ]
  },
  {
   "cell_type": "code",
   "execution_count": null,
   "metadata": {},
   "outputs": [],
   "source": []
  }
 ],
 "metadata": {
  "kernelspec": {
   "display_name": "Python 3",
   "language": "python",
   "name": "python3"
  },
  "language_info": {
   "codemirror_mode": {
    "name": "ipython",
    "version": 3
   },
   "file_extension": ".py",
   "mimetype": "text/x-python",
   "name": "python",
   "nbconvert_exporter": "python",
   "pygments_lexer": "ipython3",
   "version": "3.11.2"
  }
 },
 "nbformat": 4,
 "nbformat_minor": 2
}
