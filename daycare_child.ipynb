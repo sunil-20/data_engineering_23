{
 "cells": [
  {
   "cell_type": "code",
   "execution_count": 1,
   "metadata": {
    "colab": {
     "base_uri": "https://localhost:8080/"
    },
    "executionInfo": {
     "elapsed": 6734,
     "status": "ok",
     "timestamp": 1699360830959,
     "user": {
      "displayName": "Sunil Kafle",
      "userId": "15703601385285257600"
     },
     "user_tz": 300
    },
    "id": "Sbpu1OHVw0_4",
    "outputId": "4f7b97dc-13b6-45e6-d295-8e404ccd2974"
   },
   "outputs": [
    {
     "name": "stdout",
     "output_type": "stream",
     "text": [
      "Collecting faker\n",
      "  Downloading Faker-19.13.0-py3-none-any.whl.metadata (15 kB)\n",
      "Requirement already satisfied: python-dateutil>=2.4 in c:\\users\\sunil\\appdata\\local\\programs\\python\\python311\\lib\\site-packages (from faker) (2.8.2)\n",
      "Requirement already satisfied: six>=1.5 in c:\\users\\sunil\\appdata\\local\\programs\\python\\python311\\lib\\site-packages (from python-dateutil>=2.4->faker) (1.16.0)\n",
      "Downloading Faker-19.13.0-py3-none-any.whl (1.7 MB)\n",
      "   ---------------------------------------- 0.0/1.7 MB ? eta -:--:--\n",
      "   ---- ----------------------------------- 0.2/1.7 MB 4.0 MB/s eta 0:00:01\n",
      "   ---------------------- ----------------- 1.0/1.7 MB 10.4 MB/s eta 0:00:01\n",
      "   ---------------------------------------- 1.7/1.7 MB 13.8 MB/s eta 0:00:00\n",
      "Installing collected packages: faker\n",
      "Successfully installed faker-19.13.0\n"
     ]
    }
   ],
   "source": [
    "!pip install faker"
   ]
  },
  {
   "cell_type": "code",
   "execution_count": 2,
   "metadata": {
    "executionInfo": {
     "elapsed": 146,
     "status": "ok",
     "timestamp": 1699362427681,
     "user": {
      "displayName": "Sunil Kafle",
      "userId": "15703601385285257600"
     },
     "user_tz": 300
    },
    "id": "_569J_B3zIK0"
   },
   "outputs": [],
   "source": [
    "# import libraries\n",
    "from random import randint, seed\n",
    "import pandas as pd\n",
    "from faker import Faker\n",
    "\n",
    "#create faker object\n",
    "f = Faker()\n"
   ]
  },
  {
   "cell_type": "code",
   "execution_count": 3,
   "metadata": {
    "id": "X5Jzrnf-zIN_"
   },
   "outputs": [
    {
     "data": {
      "text/html": [
       "<div>\n",
       "<style scoped>\n",
       "    .dataframe tbody tr th:only-of-type {\n",
       "        vertical-align: middle;\n",
       "    }\n",
       "\n",
       "    .dataframe tbody tr th {\n",
       "        vertical-align: top;\n",
       "    }\n",
       "\n",
       "    .dataframe thead th {\n",
       "        text-align: right;\n",
       "    }\n",
       "</style>\n",
       "<table border=\"1\" class=\"dataframe\">\n",
       "  <thead>\n",
       "    <tr style=\"text-align: right;\">\n",
       "      <th></th>\n",
       "      <th>customer_id</th>\n",
       "      <th>parent_name</th>\n",
       "      <th>child_name</th>\n",
       "      <th>child_birthday</th>\n",
       "      <th>family_address</th>\n",
       "      <th>parent_email</th>\n",
       "      <th>parent_job</th>\n",
       "      <th>parent_credit_card</th>\n",
       "      <th>latitude</th>\n",
       "      <th>longitude</th>\n",
       "    </tr>\n",
       "  </thead>\n",
       "  <tbody>\n",
       "    <tr>\n",
       "      <th>0</th>\n",
       "      <td>8.0</td>\n",
       "      <td>Sabrina Long</td>\n",
       "      <td>Nathaniel Elliott</td>\n",
       "      <td>2021-04-22</td>\n",
       "      <td>319 Richards Keys\\nLawsonfurt, UT 01651</td>\n",
       "      <td>jennifercox@example.com</td>\n",
       "      <td>Producer, television/film/video</td>\n",
       "      <td>JCB 16 digit\\nKimberly Stephenson\\n35235864504...</td>\n",
       "      <td>-24.198177</td>\n",
       "      <td>69.337993</td>\n",
       "    </tr>\n",
       "    <tr>\n",
       "      <th>1</th>\n",
       "      <td>12.0</td>\n",
       "      <td>Sheila Jones</td>\n",
       "      <td>Kathleen Phillips</td>\n",
       "      <td>2020-04-30</td>\n",
       "      <td>694 Kim Ramp Suite 277\\nBrettshire, SC 07076</td>\n",
       "      <td>crossbryan@example.org</td>\n",
       "      <td>Quarry manager</td>\n",
       "      <td>Mastercard\\nAmanda Foster\\n2246802779921120 11...</td>\n",
       "      <td>-37.7415455</td>\n",
       "      <td>-68.739226</td>\n",
       "    </tr>\n",
       "    <tr>\n",
       "      <th>2</th>\n",
       "      <td>11.0</td>\n",
       "      <td>Aaron Jones</td>\n",
       "      <td>Donna Young</td>\n",
       "      <td>2020-09-02</td>\n",
       "      <td>9961 Gonzalez Spur Apt. 706\\nVanessaville, OH ...</td>\n",
       "      <td>jonpaul@example.com</td>\n",
       "      <td>Careers adviser</td>\n",
       "      <td>VISA 13 digit\\nDylan Mclaughlin\\n4763497190545...</td>\n",
       "      <td>28.530673</td>\n",
       "      <td>107.169386</td>\n",
       "    </tr>\n",
       "    <tr>\n",
       "      <th>3</th>\n",
       "      <td>47.0</td>\n",
       "      <td>Corey Wilson</td>\n",
       "      <td>Melissa Allen</td>\n",
       "      <td>2021-03-26</td>\n",
       "      <td>75149 Mark Rapid\\nEast Joshuaton, MN 58567</td>\n",
       "      <td>gsmith@example.com</td>\n",
       "      <td>Music therapist</td>\n",
       "      <td>Maestro\\nAndrew Snyder\\n587246309468 10/26\\nCV...</td>\n",
       "      <td>64.4349255</td>\n",
       "      <td>66.019111</td>\n",
       "    </tr>\n",
       "    <tr>\n",
       "      <th>4</th>\n",
       "      <td>22.0</td>\n",
       "      <td>Michael Harvey</td>\n",
       "      <td>Heather Lopez</td>\n",
       "      <td>2021-05-21</td>\n",
       "      <td>083 Smith Mill Suite 160\\nCurtisville, IA 13743</td>\n",
       "      <td>katelynconrad@example.com</td>\n",
       "      <td>Glass blower/designer</td>\n",
       "      <td>Discover\\nCameron Sutton\\n6011979417677811 09/...</td>\n",
       "      <td>76.3705585</td>\n",
       "      <td>-70.742194</td>\n",
       "    </tr>\n",
       "    <tr>\n",
       "      <th>...</th>\n",
       "      <td>...</td>\n",
       "      <td>...</td>\n",
       "      <td>...</td>\n",
       "      <td>...</td>\n",
       "      <td>...</td>\n",
       "      <td>...</td>\n",
       "      <td>...</td>\n",
       "      <td>...</td>\n",
       "      <td>...</td>\n",
       "      <td>...</td>\n",
       "    </tr>\n",
       "    <tr>\n",
       "      <th>995</th>\n",
       "      <td>79.0</td>\n",
       "      <td>Frank Hernandez</td>\n",
       "      <td>Destiny Robinson</td>\n",
       "      <td>2018-03-07</td>\n",
       "      <td>24381 Fuentes Ford Apt. 812\\nJenniferburgh, ID...</td>\n",
       "      <td>molinaalbert@example.com</td>\n",
       "      <td>Environmental manager</td>\n",
       "      <td>Diners Club / Carte Blanche\\nGeorge Wilson\\n30...</td>\n",
       "      <td>21.7125895</td>\n",
       "      <td>127.549213</td>\n",
       "    </tr>\n",
       "    <tr>\n",
       "      <th>996</th>\n",
       "      <td>25.0</td>\n",
       "      <td>Becky Vazquez</td>\n",
       "      <td>Ashley Hall</td>\n",
       "      <td>2021-03-23</td>\n",
       "      <td>743 Fitzpatrick Tunnel Apt. 781\\nNew Ronald, M...</td>\n",
       "      <td>lmccoy@example.org</td>\n",
       "      <td>Garment/textile technologist</td>\n",
       "      <td>Diners Club / Carte Blanche\\nDonald Richardson...</td>\n",
       "      <td>-75.483570</td>\n",
       "      <td>130.989723</td>\n",
       "    </tr>\n",
       "    <tr>\n",
       "      <th>997</th>\n",
       "      <td>75.0</td>\n",
       "      <td>Robert Johnson</td>\n",
       "      <td>Susan Martinez</td>\n",
       "      <td>2020-02-10</td>\n",
       "      <td>435 Wall Stravenue Suite 308\\nPachecoland, ID ...</td>\n",
       "      <td>alyssadunn@example.org</td>\n",
       "      <td>Transport planner</td>\n",
       "      <td>American Express\\nEmily Coleman\\n3727727645854...</td>\n",
       "      <td>-11.4326425</td>\n",
       "      <td>165.313480</td>\n",
       "    </tr>\n",
       "    <tr>\n",
       "      <th>998</th>\n",
       "      <td>61.0</td>\n",
       "      <td>Dean Macdonald</td>\n",
       "      <td>James Glenn</td>\n",
       "      <td>2018-07-05</td>\n",
       "      <td>401 Terry Locks Apt. 301\\nBerrybury, DC 59715</td>\n",
       "      <td>david55@example.org</td>\n",
       "      <td>Ceramics designer</td>\n",
       "      <td>VISA 19 digit\\nLogan Robinson\\n410468107381259...</td>\n",
       "      <td>-1.304788</td>\n",
       "      <td>68.771803</td>\n",
       "    </tr>\n",
       "    <tr>\n",
       "      <th>999</th>\n",
       "      <td>57.0</td>\n",
       "      <td>Glenn Hopkins</td>\n",
       "      <td>Billy Martinez</td>\n",
       "      <td>2021-03-25</td>\n",
       "      <td>989 Ronald Summit Suite 613\\nPort Stephanie, P...</td>\n",
       "      <td>annettearmstrong@example.org</td>\n",
       "      <td>Research scientist (medical)</td>\n",
       "      <td>Mastercard\\nShawn Boyd\\n2394954520422153 09/26...</td>\n",
       "      <td>-30.818786</td>\n",
       "      <td>73.234000</td>\n",
       "    </tr>\n",
       "  </tbody>\n",
       "</table>\n",
       "<p>1000 rows × 10 columns</p>\n",
       "</div>"
      ],
      "text/plain": [
       "     customer_id      parent_name         child_name child_birthday   \n",
       "0            8.0     Sabrina Long  Nathaniel Elliott     2021-04-22  \\\n",
       "1           12.0     Sheila Jones  Kathleen Phillips     2020-04-30   \n",
       "2           11.0      Aaron Jones        Donna Young     2020-09-02   \n",
       "3           47.0     Corey Wilson      Melissa Allen     2021-03-26   \n",
       "4           22.0   Michael Harvey      Heather Lopez     2021-05-21   \n",
       "..           ...              ...                ...            ...   \n",
       "995         79.0  Frank Hernandez   Destiny Robinson     2018-03-07   \n",
       "996         25.0    Becky Vazquez        Ashley Hall     2021-03-23   \n",
       "997         75.0   Robert Johnson     Susan Martinez     2020-02-10   \n",
       "998         61.0   Dean Macdonald        James Glenn     2018-07-05   \n",
       "999         57.0    Glenn Hopkins     Billy Martinez     2021-03-25   \n",
       "\n",
       "                                        family_address   \n",
       "0              319 Richards Keys\\nLawsonfurt, UT 01651  \\\n",
       "1         694 Kim Ramp Suite 277\\nBrettshire, SC 07076   \n",
       "2    9961 Gonzalez Spur Apt. 706\\nVanessaville, OH ...   \n",
       "3           75149 Mark Rapid\\nEast Joshuaton, MN 58567   \n",
       "4      083 Smith Mill Suite 160\\nCurtisville, IA 13743   \n",
       "..                                                 ...   \n",
       "995  24381 Fuentes Ford Apt. 812\\nJenniferburgh, ID...   \n",
       "996  743 Fitzpatrick Tunnel Apt. 781\\nNew Ronald, M...   \n",
       "997  435 Wall Stravenue Suite 308\\nPachecoland, ID ...   \n",
       "998      401 Terry Locks Apt. 301\\nBerrybury, DC 59715   \n",
       "999  989 Ronald Summit Suite 613\\nPort Stephanie, P...   \n",
       "\n",
       "                     parent_email                       parent_job   \n",
       "0         jennifercox@example.com  Producer, television/film/video  \\\n",
       "1          crossbryan@example.org                   Quarry manager   \n",
       "2             jonpaul@example.com                  Careers adviser   \n",
       "3              gsmith@example.com                  Music therapist   \n",
       "4       katelynconrad@example.com            Glass blower/designer   \n",
       "..                            ...                              ...   \n",
       "995      molinaalbert@example.com            Environmental manager   \n",
       "996            lmccoy@example.org     Garment/textile technologist   \n",
       "997        alyssadunn@example.org                Transport planner   \n",
       "998           david55@example.org                Ceramics designer   \n",
       "999  annettearmstrong@example.org     Research scientist (medical)   \n",
       "\n",
       "                                    parent_credit_card     latitude   \n",
       "0    JCB 16 digit\\nKimberly Stephenson\\n35235864504...   -24.198177  \\\n",
       "1    Mastercard\\nAmanda Foster\\n2246802779921120 11...  -37.7415455   \n",
       "2    VISA 13 digit\\nDylan Mclaughlin\\n4763497190545...    28.530673   \n",
       "3    Maestro\\nAndrew Snyder\\n587246309468 10/26\\nCV...   64.4349255   \n",
       "4    Discover\\nCameron Sutton\\n6011979417677811 09/...   76.3705585   \n",
       "..                                                 ...          ...   \n",
       "995  Diners Club / Carte Blanche\\nGeorge Wilson\\n30...   21.7125895   \n",
       "996  Diners Club / Carte Blanche\\nDonald Richardson...   -75.483570   \n",
       "997  American Express\\nEmily Coleman\\n3727727645854...  -11.4326425   \n",
       "998  VISA 19 digit\\nLogan Robinson\\n410468107381259...    -1.304788   \n",
       "999  Mastercard\\nShawn Boyd\\n2394954520422153 09/26...   -30.818786   \n",
       "\n",
       "      longitude  \n",
       "0     69.337993  \n",
       "1    -68.739226  \n",
       "2    107.169386  \n",
       "3     66.019111  \n",
       "4    -70.742194  \n",
       "..          ...  \n",
       "995  127.549213  \n",
       "996  130.989723  \n",
       "997  165.313480  \n",
       "998   68.771803  \n",
       "999   73.234000  \n",
       "\n",
       "[1000 rows x 10 columns]"
      ]
     },
     "execution_count": 3,
     "metadata": {},
     "output_type": "execute_result"
    }
   ],
   "source": [
    "# set seed for reproducible data generation\n",
    "seed(2)\n",
    "# define a function\n",
    "def input_data(x):\n",
    "  # create a pd dataframe(table)\n",
    "  data = pd.DataFrame()\n",
    "  for i in range(0,x):\n",
    "    data.loc[i, \"customer_id\"]= randint(1, 100)\n",
    "    data.loc[i,\"parent_name\"] = f.name()\n",
    "    data.loc[i, \"child_name\"] = f.name()\n",
    "    data.loc[i, \"child_birthday\"]= f.date_of_birth(minimum_age=0, maximum_age=5)\n",
    "    data.loc[i, \"family_address\"] = f.address()\n",
    "    data.loc[i, \"parent_email\"] = f.email()\n",
    "    data.loc[i, \"parent_job\"] = f.job()\n",
    "    data.loc[i, \"parent_credit_card\"] = f.credit_card_full()\n",
    "    data.loc[i, \"latitude\"] = str(f.latitude())\n",
    "    data.loc[i, \"longitude\"] = str(f.longitude())\n",
    "  return data\n",
    "input_data(1000)\n",
    "\n",
    "\n"
   ]
  },
  {
   "cell_type": "code",
   "execution_count": 9,
   "metadata": {
    "id": "Wo8hp2aDzIlA"
   },
   "outputs": [
    {
     "name": "stderr",
     "output_type": "stream",
     "text": [
      "Cloning into 'data_engineering_23'...\n",
      "git@github.com: Permission denied (publickey).\n",
      "fatal: Could not read from remote repository.\n",
      "\n",
      "Please make sure you have the correct access rights\n",
      "and the repository exists.\n"
     ]
    }
   ],
   "source": [
    "!git clone \"git@github.com:sunil-20/data_engineering_23.git\""
   ]
  },
  {
   "cell_type": "code",
   "execution_count": null,
   "metadata": {
    "id": "Fae082OMzIq5"
   },
   "outputs": [],
   "source": []
  },
  {
   "cell_type": "code",
   "execution_count": null,
   "metadata": {
    "id": "ZRp0SL8UzIuI"
   },
   "outputs": [],
   "source": []
  },
  {
   "cell_type": "code",
   "execution_count": null,
   "metadata": {
    "id": "vFuZ1t5OzIxR"
   },
   "outputs": [],
   "source": []
  },
  {
   "cell_type": "code",
   "execution_count": null,
   "metadata": {
    "id": "4h20nv5mzI0Z"
   },
   "outputs": [],
   "source": []
  },
  {
   "cell_type": "code",
   "execution_count": null,
   "metadata": {
    "id": "EY8PTnA6zI3t"
   },
   "outputs": [],
   "source": []
  }
 ],
 "metadata": {
  "colab": {
   "authorship_tag": "ABX9TyMLapxKXOh/lbWUM+rBedeM",
   "provenance": []
  },
  "kernelspec": {
   "display_name": "Python 3 (ipykernel)",
   "language": "python",
   "name": "python3"
  },
  "language_info": {
   "codemirror_mode": {
    "name": "ipython",
    "version": 3
   },
   "file_extension": ".py",
   "mimetype": "text/x-python",
   "name": "python",
   "nbconvert_exporter": "python",
   "pygments_lexer": "ipython3",
   "version": "3.11.2"
  }
 },
 "nbformat": 4,
 "nbformat_minor": 4
}
