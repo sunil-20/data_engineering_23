{
 "cells": [
  {
   "cell_type": "code",
   "execution_count": 1,
   "metadata": {
    "colab": {
     "base_uri": "https://localhost:8080/"
    },
    "executionInfo": {
     "elapsed": 6734,
     "status": "ok",
     "timestamp": 1699360830959,
     "user": {
      "displayName": "Sunil Kafle",
      "userId": "15703601385285257600"
     },
     "user_tz": 300
    },
    "id": "Sbpu1OHVw0_4",
    "outputId": "4f7b97dc-13b6-45e6-d295-8e404ccd2974"
   },
   "outputs": [
    {
     "name": "stdout",
     "output_type": "stream",
     "text": [
      "Collecting faker\n",
      "  Downloading Faker-19.13.0-py3-none-any.whl.metadata (15 kB)\n",
      "Requirement already satisfied: python-dateutil>=2.4 in c:\\users\\sunil\\appdata\\local\\programs\\python\\python311\\lib\\site-packages (from faker) (2.8.2)\n",
      "Requirement already satisfied: six>=1.5 in c:\\users\\sunil\\appdata\\local\\programs\\python\\python311\\lib\\site-packages (from python-dateutil>=2.4->faker) (1.16.0)\n",
      "Downloading Faker-19.13.0-py3-none-any.whl (1.7 MB)\n",
      "   ---------------------------------------- 0.0/1.7 MB ? eta -:--:--\n",
      "   ---- ----------------------------------- 0.2/1.7 MB 4.0 MB/s eta 0:00:01\n",
      "   ---------------------- ----------------- 1.0/1.7 MB 10.4 MB/s eta 0:00:01\n",
      "   ---------------------------------------- 1.7/1.7 MB 13.8 MB/s eta 0:00:00\n",
      "Installing collected packages: faker\n",
      "Successfully installed faker-19.13.0\n"
     ]
    }
   ],
   "source": [
    "!pip install faker"
   ]
  },
  {
   "cell_type": "code",
   "execution_count": 2,
   "metadata": {
    "executionInfo": {
     "elapsed": 146,
     "status": "ok",
     "timestamp": 1699362427681,
     "user": {
      "displayName": "Sunil Kafle",
      "userId": "15703601385285257600"
     },
     "user_tz": 300
    },
    "id": "_569J_B3zIK0"
   },
   "outputs": [],
   "source": [
    "# import libraries\n",
    "from random import randint, seed\n",
    "import pandas as pd\n",
    "from faker import Faker\n",
    "\n",
    "#create faker object\n",
    "f = Faker()\n"
   ]
  },
  {
   "cell_type": "code",
   "execution_count": null,
   "metadata": {
    "id": "X5Jzrnf-zIN_"
   },
   "outputs": [],
   "source": [
    "# set seed for reproducible data generation\n",
    "seed(2)\n",
    "# define a function\n",
    "def input_data(x):\n",
    "  # create a pd dataframe(table)\n",
    "  data = pd.DataFrame()\n",
    "  for i in range(0,x):\n",
    "    data.loc[i, \"customer_id\"]= randint(1, 100)\n",
    "    data.loc[i,\"parent_name\"] = f.name()\n",
    "    data.loc[i, \"child_name\"] = f.name()\n",
    "    data.loc[i, \"child_birthday\"]= f.date_of_birth(minimum_age=0, maximum_age=5)\n",
    "    data.loc[i, \"family_address\"] = f.address()\n",
    "    data.loc[i, \"parent_email\"] = f.email()\n",
    "    data.loc[i, \"parent_job\"] = f.job()\n",
    "    data.loc[i, \"parent_credit_card\"] = f.credit_card_full()\n",
    "    data.loc[i, \"latitude\"] = str(f.latitude())\n",
    "    data.loc[i, \"longitude\"] = str(f.longitude())\n",
    "  return data\n",
    "input_data(1000)\n",
    "\n",
    "\n"
   ]
  },
  {
   "cell_type": "code",
   "execution_count": null,
   "metadata": {
    "id": "Fae082OMzIq5"
   },
   "outputs": [],
   "source": []
  },
  {
   "cell_type": "code",
   "execution_count": null,
   "metadata": {
    "id": "ZRp0SL8UzIuI"
   },
   "outputs": [],
   "source": []
  },
  {
   "cell_type": "code",
   "execution_count": null,
   "metadata": {
    "id": "vFuZ1t5OzIxR"
   },
   "outputs": [],
   "source": []
  },
  {
   "cell_type": "code",
   "execution_count": null,
   "metadata": {
    "id": "4h20nv5mzI0Z"
   },
   "outputs": [],
   "source": []
  },
  {
   "cell_type": "code",
   "execution_count": null,
   "metadata": {
    "id": "EY8PTnA6zI3t"
   },
   "outputs": [],
   "source": []
  }
 ],
 "metadata": {
  "colab": {
   "authorship_tag": "ABX9TyMLapxKXOh/lbWUM+rBedeM",
   "provenance": []
  },
  "kernelspec": {
   "display_name": "Python 3 (ipykernel)",
   "language": "python",
   "name": "python3"
  },
  "language_info": {
   "codemirror_mode": {
    "name": "ipython",
    "version": 3
   },
   "file_extension": ".py",
   "mimetype": "text/x-python",
   "name": "python",
   "nbconvert_exporter": "python",
   "pygments_lexer": "ipython3",
   "version": "3.11.2"
  }
 },
 "nbformat": 4,
 "nbformat_minor": 4
}
