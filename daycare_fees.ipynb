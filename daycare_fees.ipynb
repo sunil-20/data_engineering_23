{
 "cells": [
  {
   "cell_type": "code",
   "execution_count": null,
   "metadata": {},
   "outputs": [],
   "source": [
    "# daycare fees"
   ]
  },
  {
   "cell_type": "code",
   "execution_count": 1,
   "metadata": {},
   "outputs": [],
   "source": [
    "# import libraries\n",
    "from random import randint, seed\n",
    "import pandas as pd\n",
    "from faker import Faker\n",
    "\n",
    "#create faker object\n",
    "f = Faker()"
   ]
  },
  {
   "cell_type": "code",
   "execution_count": 2,
   "metadata": {},
   "outputs": [],
   "source": [
    "# set seed\n",
    "seed(2)\n",
    "\n",
    "# creating unique IDs\n",
    "def unique_ids(n):\n",
    "  uid = [f.unique.random_number(digits=3) for _ in range(n)]\n",
    "  return uid\n",
    "\n",
    "def input_data(x):\n",
    "\n",
    "  #call the uid fx\n",
    "  customer_id = unique_ids(x)\n",
    "\n",
    "  # create a pd dataframe(table)\n",
    "  data = pd.DataFrame()\n",
    "  for i in range(0,x):\n",
    "    data.loc[i, \"customer_id\"] = customer_id[i]\n",
    "    data.loc[i, \"hourly_rate\"] = 10\n",
    "    data.loc[i, \"daily\"] = data.loc[i,\"hourly_rate\"] * 8\n",
    "    data.loc[i, \"weekly\"] = data.loc[i, \"daily\"] * 5\n",
    "    data.loc[i, \"monthly\"] = data.loc[i, \"weekly\"] * 4\n",
    "    data.loc[i, \"total_year\"] = data.loc[i, \"monthly\"] * 12\n",
    "\n",
    "  return data\n",
    "result = input_data(100)\n",
    "result.to_csv(\"daycare_fees.csv\", index = False)\n",
    "\n",
    "  "
   ]
  }
 ],
 "metadata": {
  "kernelspec": {
   "display_name": "Python 3",
   "language": "python",
   "name": "python3"
  },
  "language_info": {
   "codemirror_mode": {
    "name": "ipython",
    "version": 3
   },
   "file_extension": ".py",
   "mimetype": "text/x-python",
   "name": "python",
   "nbconvert_exporter": "python",
   "pygments_lexer": "ipython3",
   "version": "3.11.2"
  }
 },
 "nbformat": 4,
 "nbformat_minor": 2
}
